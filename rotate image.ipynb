{
 "cells": [
  {
   "cell_type": "code",
   "execution_count": 4,
   "metadata": {},
   "outputs": [],
   "source": [
    "from PIL import Image "
   ]
  },
  {
   "cell_type": "code",
   "execution_count": 27,
   "metadata": {},
   "outputs": [],
   "source": [
    "img = Image.open(\"./data/object.jpeg\")\n",
    "rimg = img.rotate(10)\n",
    "# rimg.save('./data/object3.jpeg')\n",
    "left = 900\n",
    "right = 2200\n",
    "top = 1500\n",
    "bottom = 2750\n",
    "imgc = rimg.crop((left, top, right, bottom))\n",
    "imgc.show()\n",
    "# rimg.save('./data/rotated/.jpeg')"
   ]
  },
  {
   "cell_type": "code",
   "execution_count": 28,
   "metadata": {},
   "outputs": [],
   "source": [
    "img = Image.open(\"./data/object.jpeg\")\n",
    "left = 900\n",
    "right = 2200\n",
    "top = 1500\n",
    "bottom = 2750\n",
    "for i in range(360):\n",
    "    rimg = img.rotate(i)\n",
    "    imgc = rimg.crop((left, top, right, bottom))\n",
    "    imgc.save('./data/rotated/'+str(i)+'.jpeg')"
   ]
  },
  {
   "cell_type": "code",
   "execution_count": null,
   "metadata": {},
   "outputs": [],
   "source": []
  }
 ],
 "metadata": {
  "kernelspec": {
   "display_name": "mowito_venv",
   "language": "python",
   "name": "python3"
  },
  "language_info": {
   "codemirror_mode": {
    "name": "ipython",
    "version": 3
   },
   "file_extension": ".py",
   "mimetype": "text/x-python",
   "name": "python",
   "nbconvert_exporter": "python",
   "pygments_lexer": "ipython3",
   "version": "3.12.1"
  }
 },
 "nbformat": 4,
 "nbformat_minor": 2
}
